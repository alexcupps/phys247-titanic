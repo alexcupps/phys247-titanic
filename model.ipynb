{
 "cells": [
  {
   "cell_type": "markdown",
   "metadata": {},
   "source": [
    "Titanic Machine Learning Data Trainer\n",
    "- In this notebook, we will analyze the test data and attempt to predict the outcomes for the missing people. Given the data we have, can we accurately predict whether the rest of the people lived or died?\n",
    "- First, we will want to do manual research on the data we have. Are there any trends (gender, ticket class, age, etc.) that represent a strong-ish correlation with survival rate?\n",
    "\n",
    "Data Information\n",
    "\n",
    "(1) train.csv\n",
    "- train.csv contains the details of a subset of the passengers on board (891 passengers, to be exact -- where each passenger gets a different row in the table).\n",
    "\n",
    "- The values in the second column (\"Survived\") can be used to determine whether each passenger survived or not:\n",
    "- if it's a \"1\", the passenger survived.\n",
    "- if it's a \"0\", the passenger died.\n",
    "\n",
    "(2) test.csv\n",
    "- Using the patterns you find in train.csv, you have to predict whether the other 418 passengers on board (in test.csv) survived.\n",
    "\n",
    "- Note that test.csv does not have a \"Survived\" column - this information is hidden from you, and how well you do at predicting these hidden values will determine how highly you score in the competition!\n",
    "\n",
    "(3) gender_submission.csv\n",
    "- The gender_submission.csv file is provided as an example that shows how you should structure your predictions. It predicts that all female passengers survived, and all male passengers died. Your hypotheses regarding survival will probably be different, which will lead to a different submission file. But, just like this file, your submission should have:\n",
    "\n",
    "- a \"PassengerId\" column containing the IDs of each passenger from test.csv.\n",
    "- a \"Survived\" column (that you will create!) with a \"1\" for the rows where you think the passenger survived, and a \"0\" where you predict that the passenger died.\n",
    "\n"
   ]
  },
  {
   "cell_type": "code",
   "execution_count": 1,
   "metadata": {},
   "outputs": [],
   "source": [
    "import numpy as np\n",
    "import pandas as pd\n",
    "import os\n",
    "import csv\n",
    "from sklearn.ensemble import RandomForestClassifier"
   ]
  },
  {
   "cell_type": "code",
   "execution_count": 2,
   "metadata": {},
   "outputs": [
    {
     "data": {
      "text/html": [
       "<div>\n",
       "<style scoped>\n",
       "    .dataframe tbody tr th:only-of-type {\n",
       "        vertical-align: middle;\n",
       "    }\n",
       "\n",
       "    .dataframe tbody tr th {\n",
       "        vertical-align: top;\n",
       "    }\n",
       "\n",
       "    .dataframe thead th {\n",
       "        text-align: right;\n",
       "    }\n",
       "</style>\n",
       "<table border=\"1\" class=\"dataframe\">\n",
       "  <thead>\n",
       "    <tr style=\"text-align: right;\">\n",
       "      <th></th>\n",
       "      <th>PassengerId</th>\n",
       "      <th>Pclass</th>\n",
       "      <th>Name</th>\n",
       "      <th>Sex</th>\n",
       "      <th>Age</th>\n",
       "      <th>SibSp</th>\n",
       "      <th>Parch</th>\n",
       "      <th>Ticket</th>\n",
       "      <th>Fare</th>\n",
       "      <th>Cabin</th>\n",
       "      <th>Embarked</th>\n",
       "    </tr>\n",
       "  </thead>\n",
       "  <tbody>\n",
       "    <tr>\n",
       "      <th>0</th>\n",
       "      <td>892</td>\n",
       "      <td>3</td>\n",
       "      <td>Kelly, Mr. James</td>\n",
       "      <td>male</td>\n",
       "      <td>34.5</td>\n",
       "      <td>0</td>\n",
       "      <td>0</td>\n",
       "      <td>330911</td>\n",
       "      <td>7.8292</td>\n",
       "      <td>NaN</td>\n",
       "      <td>Q</td>\n",
       "    </tr>\n",
       "    <tr>\n",
       "      <th>1</th>\n",
       "      <td>893</td>\n",
       "      <td>3</td>\n",
       "      <td>Wilkes, Mrs. James (Ellen Needs)</td>\n",
       "      <td>female</td>\n",
       "      <td>47.0</td>\n",
       "      <td>1</td>\n",
       "      <td>0</td>\n",
       "      <td>363272</td>\n",
       "      <td>7.0000</td>\n",
       "      <td>NaN</td>\n",
       "      <td>S</td>\n",
       "    </tr>\n",
       "    <tr>\n",
       "      <th>2</th>\n",
       "      <td>894</td>\n",
       "      <td>2</td>\n",
       "      <td>Myles, Mr. Thomas Francis</td>\n",
       "      <td>male</td>\n",
       "      <td>62.0</td>\n",
       "      <td>0</td>\n",
       "      <td>0</td>\n",
       "      <td>240276</td>\n",
       "      <td>9.6875</td>\n",
       "      <td>NaN</td>\n",
       "      <td>Q</td>\n",
       "    </tr>\n",
       "    <tr>\n",
       "      <th>3</th>\n",
       "      <td>895</td>\n",
       "      <td>3</td>\n",
       "      <td>Wirz, Mr. Albert</td>\n",
       "      <td>male</td>\n",
       "      <td>27.0</td>\n",
       "      <td>0</td>\n",
       "      <td>0</td>\n",
       "      <td>315154</td>\n",
       "      <td>8.6625</td>\n",
       "      <td>NaN</td>\n",
       "      <td>S</td>\n",
       "    </tr>\n",
       "    <tr>\n",
       "      <th>4</th>\n",
       "      <td>896</td>\n",
       "      <td>3</td>\n",
       "      <td>Hirvonen, Mrs. Alexander (Helga E Lindqvist)</td>\n",
       "      <td>female</td>\n",
       "      <td>22.0</td>\n",
       "      <td>1</td>\n",
       "      <td>1</td>\n",
       "      <td>3101298</td>\n",
       "      <td>12.2875</td>\n",
       "      <td>NaN</td>\n",
       "      <td>S</td>\n",
       "    </tr>\n",
       "  </tbody>\n",
       "</table>\n",
       "</div>"
      ],
      "text/plain": [
       "   PassengerId  Pclass                                          Name     Sex  \\\n",
       "0          892       3                              Kelly, Mr. James    male   \n",
       "1          893       3              Wilkes, Mrs. James (Ellen Needs)  female   \n",
       "2          894       2                     Myles, Mr. Thomas Francis    male   \n",
       "3          895       3                              Wirz, Mr. Albert    male   \n",
       "4          896       3  Hirvonen, Mrs. Alexander (Helga E Lindqvist)  female   \n",
       "\n",
       "    Age  SibSp  Parch   Ticket     Fare Cabin Embarked  \n",
       "0  34.5      0      0   330911   7.8292   NaN        Q  \n",
       "1  47.0      1      0   363272   7.0000   NaN        S  \n",
       "2  62.0      0      0   240276   9.6875   NaN        Q  \n",
       "3  27.0      0      0   315154   8.6625   NaN        S  \n",
       "4  22.0      1      1  3101298  12.2875   NaN        S  "
      ]
     },
     "execution_count": 2,
     "metadata": {},
     "output_type": "execute_result"
    }
   ],
   "source": [
    "# with open('test.csv', newline='') as file:\n",
    "#     tweets_dict = {}\n",
    "#     test_data = csv.reader(file)\n",
    "\n",
    "#     # Skip the header row\n",
    "#     next(test_data)\n",
    "\n",
    "#     for row in test_data:\n",
    "#         print(row[0])\n",
    "\n",
    "test_data = pd.read_csv(\"test.csv\")\n",
    "test_data.head()\n"
   ]
  },
  {
   "cell_type": "code",
   "execution_count": 3,
   "metadata": {},
   "outputs": [
    {
     "data": {
      "text/html": [
       "<div>\n",
       "<style scoped>\n",
       "    .dataframe tbody tr th:only-of-type {\n",
       "        vertical-align: middle;\n",
       "    }\n",
       "\n",
       "    .dataframe tbody tr th {\n",
       "        vertical-align: top;\n",
       "    }\n",
       "\n",
       "    .dataframe thead th {\n",
       "        text-align: right;\n",
       "    }\n",
       "</style>\n",
       "<table border=\"1\" class=\"dataframe\">\n",
       "  <thead>\n",
       "    <tr style=\"text-align: right;\">\n",
       "      <th></th>\n",
       "      <th>PassengerId</th>\n",
       "      <th>Survived</th>\n",
       "      <th>Pclass</th>\n",
       "      <th>Name</th>\n",
       "      <th>Sex</th>\n",
       "      <th>Age</th>\n",
       "      <th>SibSp</th>\n",
       "      <th>Parch</th>\n",
       "      <th>Ticket</th>\n",
       "      <th>Fare</th>\n",
       "      <th>Cabin</th>\n",
       "      <th>Embarked</th>\n",
       "    </tr>\n",
       "  </thead>\n",
       "  <tbody>\n",
       "    <tr>\n",
       "      <th>0</th>\n",
       "      <td>1</td>\n",
       "      <td>0</td>\n",
       "      <td>3</td>\n",
       "      <td>Braund, Mr. Owen Harris</td>\n",
       "      <td>male</td>\n",
       "      <td>22.0</td>\n",
       "      <td>1</td>\n",
       "      <td>0</td>\n",
       "      <td>A/5 21171</td>\n",
       "      <td>7.2500</td>\n",
       "      <td>NaN</td>\n",
       "      <td>S</td>\n",
       "    </tr>\n",
       "    <tr>\n",
       "      <th>1</th>\n",
       "      <td>2</td>\n",
       "      <td>1</td>\n",
       "      <td>1</td>\n",
       "      <td>Cumings, Mrs. John Bradley (Florence Briggs Th...</td>\n",
       "      <td>female</td>\n",
       "      <td>38.0</td>\n",
       "      <td>1</td>\n",
       "      <td>0</td>\n",
       "      <td>PC 17599</td>\n",
       "      <td>71.2833</td>\n",
       "      <td>C85</td>\n",
       "      <td>C</td>\n",
       "    </tr>\n",
       "    <tr>\n",
       "      <th>2</th>\n",
       "      <td>3</td>\n",
       "      <td>1</td>\n",
       "      <td>3</td>\n",
       "      <td>Heikkinen, Miss. Laina</td>\n",
       "      <td>female</td>\n",
       "      <td>26.0</td>\n",
       "      <td>0</td>\n",
       "      <td>0</td>\n",
       "      <td>STON/O2. 3101282</td>\n",
       "      <td>7.9250</td>\n",
       "      <td>NaN</td>\n",
       "      <td>S</td>\n",
       "    </tr>\n",
       "    <tr>\n",
       "      <th>3</th>\n",
       "      <td>4</td>\n",
       "      <td>1</td>\n",
       "      <td>1</td>\n",
       "      <td>Futrelle, Mrs. Jacques Heath (Lily May Peel)</td>\n",
       "      <td>female</td>\n",
       "      <td>35.0</td>\n",
       "      <td>1</td>\n",
       "      <td>0</td>\n",
       "      <td>113803</td>\n",
       "      <td>53.1000</td>\n",
       "      <td>C123</td>\n",
       "      <td>S</td>\n",
       "    </tr>\n",
       "    <tr>\n",
       "      <th>4</th>\n",
       "      <td>5</td>\n",
       "      <td>0</td>\n",
       "      <td>3</td>\n",
       "      <td>Allen, Mr. William Henry</td>\n",
       "      <td>male</td>\n",
       "      <td>35.0</td>\n",
       "      <td>0</td>\n",
       "      <td>0</td>\n",
       "      <td>373450</td>\n",
       "      <td>8.0500</td>\n",
       "      <td>NaN</td>\n",
       "      <td>S</td>\n",
       "    </tr>\n",
       "  </tbody>\n",
       "</table>\n",
       "</div>"
      ],
      "text/plain": [
       "   PassengerId  Survived  Pclass  \\\n",
       "0            1         0       3   \n",
       "1            2         1       1   \n",
       "2            3         1       3   \n",
       "3            4         1       1   \n",
       "4            5         0       3   \n",
       "\n",
       "                                                Name     Sex   Age  SibSp  \\\n",
       "0                            Braund, Mr. Owen Harris    male  22.0      1   \n",
       "1  Cumings, Mrs. John Bradley (Florence Briggs Th...  female  38.0      1   \n",
       "2                             Heikkinen, Miss. Laina  female  26.0      0   \n",
       "3       Futrelle, Mrs. Jacques Heath (Lily May Peel)  female  35.0      1   \n",
       "4                           Allen, Mr. William Henry    male  35.0      0   \n",
       "\n",
       "   Parch            Ticket     Fare Cabin Embarked  \n",
       "0      0         A/5 21171   7.2500   NaN        S  \n",
       "1      0          PC 17599  71.2833   C85        C  \n",
       "2      0  STON/O2. 3101282   7.9250   NaN        S  \n",
       "3      0            113803  53.1000  C123        S  \n",
       "4      0            373450   8.0500   NaN        S  "
      ]
     },
     "execution_count": 3,
     "metadata": {},
     "output_type": "execute_result"
    }
   ],
   "source": [
    "train_data = pd.read_csv(\"train.csv\")\n",
    "train_data.head()"
   ]
  },
  {
   "cell_type": "code",
   "execution_count": 4,
   "metadata": {},
   "outputs": [
    {
     "data": {
      "text/plain": [
       "PassengerId      int64\n",
       "Survived         int64\n",
       "Pclass           int64\n",
       "Name            object\n",
       "Sex             object\n",
       "Age            float64\n",
       "SibSp            int64\n",
       "Parch            int64\n",
       "Ticket          object\n",
       "Fare           float64\n",
       "Cabin           object\n",
       "Embarked        object\n",
       "dtype: object"
      ]
     },
     "execution_count": 4,
     "metadata": {},
     "output_type": "execute_result"
    }
   ],
   "source": [
    "train_data.dtypes"
   ]
  },
  {
   "cell_type": "code",
   "execution_count": 5,
   "metadata": {},
   "outputs": [
    {
     "name": "stdout",
     "output_type": "stream",
     "text": [
      "% of 1st class passengers that survived: 0.6296296296296297\n",
      "% of 2nd class passengers that survived: 0.47282608695652173\n",
      "% of 3rd class passengers that survived: 0.24236252545824846\n"
     ]
    }
   ],
   "source": [
    "#Here, we are looking at the survival rate of each class\n",
    "first_class = train_data.loc[train_data.Pclass == 1][\"Survived\"]\n",
    "rate_first = sum(first_class)/len(first_class)\n",
    "\n",
    "second_class = train_data.loc[train_data.Pclass == 2][\"Survived\"]\n",
    "rate_second = sum(second_class)/len(second_class)\n",
    "\n",
    "third_class = train_data.loc[train_data.Pclass == 3][\"Survived\"]\n",
    "rate_third = sum(third_class)/len(third_class)\n",
    "\n",
    "print(\"% of 1st class passengers that survived:\", rate_first)\n",
    "print(\"% of 2nd class passengers that survived:\", rate_second)\n",
    "print(\"% of 3rd class passengers that survived:\", rate_third)"
   ]
  },
  {
   "cell_type": "markdown",
   "metadata": {},
   "source": [
    "This is an outcome to be expected. They most likely would have prioritized higher class passengers than lower class passengers. This is something we should pay attention to."
   ]
  },
  {
   "cell_type": "code",
   "execution_count": 6,
   "metadata": {},
   "outputs": [
    {
     "name": "stdout",
     "output_type": "stream",
     "text": [
      "% of C port passengers that survived: 0.5535714285714286\n",
      "% of Q port passengers that survived: 0.38961038961038963\n",
      "% of S port passengers that survived: 0.33695652173913043\n"
     ]
    }
   ],
   "source": [
    "#Now, we want to see the rate of survival from each port to see if there is some connection there\n",
    "c_port = train_data.loc[train_data.Embarked == 'C'][\"Survived\"]\n",
    "rate_cport = sum(c_port)/len(c_port)\n",
    "\n",
    "q_port = train_data.loc[train_data.Embarked == 'Q'][\"Survived\"]\n",
    "rate_qport = sum(q_port)/len(q_port)\n",
    "\n",
    "s_port = train_data.loc[train_data.Embarked == 'S'][\"Survived\"]\n",
    "rate_sport = sum(s_port)/len(s_port)\n",
    "\n",
    "print(\"% of C port passengers that survived:\", rate_cport)\n",
    "print(\"% of Q port passengers that survived:\", rate_qport)\n",
    "print(\"% of S port passengers that survived:\", rate_sport)"
   ]
  },
  {
   "cell_type": "markdown",
   "metadata": {},
   "source": [
    "It seems like more people from port C survived than people from other ports. This is interesting and seems important, so we might want to keep an eye out for that."
   ]
  },
  {
   "cell_type": "code",
   "execution_count": 38,
   "metadata": {},
   "outputs": [
    {
     "name": "stdout",
     "output_type": "stream",
     "text": [
      "Average first class ticket without Parch and SibSp that survived: 63.67251376146789\n",
      "Average second class ticket without Parch and SibSp that survived: 14.06610576923077\n",
      "Average third class ticket without Parch and SibSp that survived: 9.272051851851854\n"
     ]
    },
    {
     "name": "stderr",
     "output_type": "stream",
     "text": [
      "C:\\Users\\Allan Peh\\AppData\\Local\\Temp\\ipykernel_38080\\2272474794.py:8: UserWarning: Boolean Series key will be reindexed to match DataFrame index.\n",
      "  NaN_SibSp_Parch = train_data.loc[train_data['Parch'] == 0][train_data['SibSp'] == 0]\n"
     ]
    }
   ],
   "source": [
    "#Now we will start to look at fare prices\n",
    "#we will now try to filter out some variables that might affect the price. It seems like Parch and SibSp is a high determining factor in the price, so we want to take this out of the equation for now.\n",
    "#Here, we are looking at how many distinct numbers there are in both SibSp and Parch\n",
    "num_dist_parch = train_data.Parch.nunique(dropna=True)\n",
    "num_dist_sibsp = train_data.SibSp.nunique(dropna=True)\n",
    "\n",
    "#now we want to look at the fare prices of people who's SibSp and Parch are 0.\n",
    "NaN_SibSp_Parch = train_data.loc[train_data['Parch'] == 0][train_data['SibSp'] == 0]\n",
    "cond1 = train_data['Pclass'] == 1\n",
    "cond2 = train_data['Pclass'] == 2\n",
    "cond3 = train_data['Pclass'] == 3\n",
    "cond4 = train_data['Parch'] == 0\n",
    "cond5 = train_data['SibSp'] == 0\n",
    "cond6 = ['Survived']\n",
    "\n",
    "combined_cond1 = cond1 & cond4 & cond5 & cond6\n",
    "filtered_cond1 = train_data[combined_cond1]\n",
    "first_avg = filtered_cond1['Fare'].mean()\n",
    "\n",
    "combined_cond2 = cond2 & cond4 & cond5 & cond6\n",
    "filtered_cond2 = train_data[combined_cond2]\n",
    "second_avg = filtered_cond2['Fare'].mean()\n",
    "\n",
    "combined_cond3 = cond3 & cond4 & cond5 & cond6\n",
    "filtered_cond3 = train_data[combined_cond3]\n",
    "third_avg = filtered_cond3['Fare'].mean()\n",
    "\n",
    "print(\"Average first class ticket without Parch and SibSp that survived:\", first_avg)\n",
    "print(\"Average second class ticket without Parch and SibSp that survived:\", second_avg)\n",
    "print(\"Average third class ticket without Parch and SibSp that survived:\", third_avg)"
   ]
  },
  {
   "cell_type": "code",
   "execution_count": 33,
   "metadata": {},
   "outputs": [
    {
     "name": "stdout",
     "output_type": "stream",
     "text": [
      "84.15468749999992 20.66218315217391 13.675550101832997\n",
      "% of people who survived and paid over $85 0.7727272727272727\n",
      "% of people who survived and paid between $20 and $84 0.4774193548387097\n",
      "% of people who survived and paid below $19 0.2702169625246548\n"
     ]
    },
    {
     "name": "stderr",
     "output_type": "stream",
     "text": [
      "C:\\Users\\Allan Peh\\AppData\\Local\\Temp\\ipykernel_38080\\2840144677.py:11: UserWarning: Boolean Series key will be reindexed to match DataFrame index.\n",
      "  med_fare = train_data.loc[train_data.Fare < 84][train_data.Fare >= 20][\"Survived\"]\n"
     ]
    }
   ],
   "source": [
    "#First, we are finding the average proce of each class ticket so we have a range to go off of.\n",
    "avg_1st_class = train_data.loc[train_data['Pclass'] == 1, 'Fare'].mean()\n",
    "avg_2nd_class = train_data.loc[train_data['Pclass'] == 2, 'Fare'].mean()\n",
    "avg_3rd_class = train_data.loc[train_data['Pclass'] == 3, 'Fare'].mean()\n",
    "\n",
    "print (avg_1st_class, avg_2nd_class, avg_3rd_class)\n",
    "\n",
    "high_fare = train_data.loc[train_data.Fare >= 85][\"Survived\"]\n",
    "rate_high = sum(high_fare)/len(high_fare)\n",
    "\n",
    "med_fare = train_data.loc[train_data.Fare < 84][train_data.Fare >= 20][\"Survived\"]\n",
    "rate_med = sum(med_fare)/len(med_fare)\n",
    "\n",
    "low_fare = train_data.loc[train_data.Fare <= 19][\"Survived\"]\n",
    "rate_low = sum(low_fare)/len(low_fare)\n",
    "\n",
    "print(\"% of people who survived and paid over $85:\", rate_high)\n",
    "print(\"% of people who survived and paid between $20 and $84:\",  rate_med)\n",
    "print(\"% of people who survived and paid below $19:\", rate_low)"
   ]
  },
  {
   "cell_type": "code",
   "execution_count": null,
   "metadata": {},
   "outputs": [],
   "source": []
  },
  {
   "cell_type": "code",
   "execution_count": 53,
   "metadata": {},
   "outputs": [
    {
     "name": "stdout",
     "output_type": "stream",
     "text": [
      "% of men who survived: 0.18890814558058924\n",
      "% of women who survived: 0.7420382165605095\n"
     ]
    }
   ],
   "source": [
    "women = train_data.loc[train_data.Sex == 'female'][\"Survived\"]\n",
    "rate_women = sum(women)/len(women)\n",
    "\n",
    "men = train_data.loc[train_data.Sex == 'male'][\"Survived\"]\n",
    "rate_men = sum(men)/len(men)\n",
    "\n",
    "print(\"% of men who survived:\", rate_men)\n",
    "print(\"% of women who survived:\", rate_women)"
   ]
  },
  {
   "cell_type": "markdown",
   "metadata": {},
   "source": [
    "Given the above rates when comparing men and women, it is clear that gender is a highly correlated attribute to survival rate. Let's dive a little deeper into this, and see if age has any significant correlation."
   ]
  },
  {
   "cell_type": "code",
   "execution_count": 54,
   "metadata": {},
   "outputs": [
    {
     "name": "stdout",
     "output_type": "stream",
     "text": [
      "% of boys who survived: 0.5398230088495575\n"
     ]
    }
   ],
   "source": [
    "child = train_data.loc[train_data.Age < 18][\"Survived\"]\n",
    "rate_child = sum(child)/len(child)\n",
    "\n",
    "print(\"% of boys who survived:\", rate_child)"
   ]
  },
  {
   "cell_type": "markdown",
   "metadata": {},
   "source": [
    "With a survival rate of ~50% for children (both male and female) under the age of 18, this does not tell us much. However, I have a feeling that this rate could be skewed by males that were closer to that age threshold (i.e. teenage boys). I could see a world where boys that were old enough to not be considered \"children\" may have not had priority spots on the lifeboats. Let's dig into this a bit further, and see if we can uncover any trends when considering age and gender:"
   ]
  },
  {
   "cell_type": "code",
   "execution_count": 25,
   "metadata": {},
   "outputs": [
    {
     "name": "stdout",
     "output_type": "stream",
     "text": [
      "% of boys who survived (under 5 years old): 0.6521739130434783\n",
      "% of boys who survived (5-11 years old): 0.5555555555555556\n",
      "% of boys who survived (12-18 years old): 0.39655172413793105\n"
     ]
    },
    {
     "name": "stderr",
     "output_type": "stream",
     "text": [
      "C:\\Users\\Allan Peh\\AppData\\Local\\Temp\\ipykernel_38080\\2224547805.py:1: UserWarning: Boolean Series key will be reindexed to match DataFrame index.\n",
      "  child_male_sub_5 = train_data.loc[train_data.Age < 5][train_data.Sex == 'male'][\"Survived\"]\n",
      "C:\\Users\\Allan Peh\\AppData\\Local\\Temp\\ipykernel_38080\\2224547805.py:4: UserWarning: Boolean Series key will be reindexed to match DataFrame index.\n",
      "  child_male_sub_12 = train_data.loc[train_data.Age < 12][train_data.Sex == 'male'][\"Survived\"]\n",
      "C:\\Users\\Allan Peh\\AppData\\Local\\Temp\\ipykernel_38080\\2224547805.py:7: UserWarning: Boolean Series key will be reindexed to match DataFrame index.\n",
      "  child_male_sub_18 = train_data.loc[train_data.Age < 18][train_data.Sex == 'male'][\"Survived\"]\n"
     ]
    }
   ],
   "source": [
    "child_male_sub_5 = train_data.loc[train_data.Age < 5][train_data.Sex == 'male'][\"Survived\"]\n",
    "rate_child_male_sub_5 = sum(child_male_sub_5)/len(child_male_sub_5)\n",
    "\n",
    "child_male_sub_12 = train_data.loc[train_data.Age < 12][train_data.Sex == 'male'][\"Survived\"]\n",
    "rate_child_male_sub_12 = sum(child_male_sub_12)/len(child_male_sub_12)\n",
    "\n",
    "child_male_sub_18 = train_data.loc[train_data.Age < 18][train_data.Sex == 'male'][\"Survived\"]\n",
    "rate_child_male_sub_18 = sum(child_male_sub_18)/len(child_male_sub_18)\n",
    "\n",
    "print(\"% of boys who survived (under 5 years old):\", rate_child_male_sub_5)\n",
    "print(\"% of boys who survived (5-11 years old):\", rate_child_male_sub_12)\n",
    "print(\"% of boys who survived (12-18 years old):\", rate_child_male_sub_18)"
   ]
  },
  {
   "cell_type": "markdown",
   "metadata": {},
   "source": [
    "Given these survival rates, it is evident that younger boys that could be considered babies/infants had a much higher chance of survival than older boys. Let's take a look at these same rates for girls:"
   ]
  },
  {
   "cell_type": "code",
   "execution_count": 61,
   "metadata": {},
   "outputs": [
    {
     "name": "stdout",
     "output_type": "stream",
     "text": [
      "% of girls who survived (under 5 years old): 0.7058823529411765\n",
      "% of girls who survived (5-11 years old): 0.59375\n",
      "% of girls who survived (12-18 years old): 0.6909090909090909\n"
     ]
    },
    {
     "name": "stderr",
     "output_type": "stream",
     "text": [
      "/var/folders/qr/nj1x3v_n3g1c86l2ynq5dqkc0000gp/T/ipykernel_51916/1289868711.py:1: UserWarning: Boolean Series key will be reindexed to match DataFrame index.\n",
      "  child_female_sub_5 = train_data.loc[train_data.Age < 5][train_data.Sex == 'female'][\"Survived\"]\n",
      "/var/folders/qr/nj1x3v_n3g1c86l2ynq5dqkc0000gp/T/ipykernel_51916/1289868711.py:4: UserWarning: Boolean Series key will be reindexed to match DataFrame index.\n",
      "  child_female_sub_12 = train_data.loc[train_data.Age < 12][train_data.Sex == 'female'][\"Survived\"]\n",
      "/var/folders/qr/nj1x3v_n3g1c86l2ynq5dqkc0000gp/T/ipykernel_51916/1289868711.py:7: UserWarning: Boolean Series key will be reindexed to match DataFrame index.\n",
      "  child_female_sub_18 = train_data.loc[train_data.Age < 18][train_data.Sex == 'female'][\"Survived\"]\n"
     ]
    }
   ],
   "source": [
    "child_female_sub_5 = train_data.loc[train_data.Age < 5][train_data.Sex == 'female'][\"Survived\"]\n",
    "rate_child_female_sub_5 = sum(child_female_sub_5)/len(child_female_sub_5)\n",
    "\n",
    "child_female_sub_12 = train_data.loc[train_data.Age < 12][train_data.Sex == 'female'][\"Survived\"]\n",
    "rate_child_female_sub_12 = sum(child_female_sub_12)/len(child_female_sub_12)\n",
    "\n",
    "child_female_sub_18 = train_data.loc[train_data.Age < 18][train_data.Sex == 'female'][\"Survived\"]\n",
    "rate_child_female_sub_18 = sum(child_female_sub_18)/len(child_female_sub_18)\n",
    "\n",
    "print(\"% of girls who survived (under 5 years old):\", rate_child_female_sub_5)\n",
    "print(\"% of girls who survived (5-11 years old):\", rate_child_female_sub_12)\n",
    "print(\"% of girls who survived (12-18 years old):\", rate_child_female_sub_18)"
   ]
  },
  {
   "cell_type": "markdown",
   "metadata": {},
   "source": [
    "Although there is a strange dip in the survival rate of girls between ages 5-11, it is notable that the survival rate of female babies/infants is very similar to the overall rate of girls under the age of 18. This goes to show that the age discrepancy between female childeren did not share the same impact on survival rate that it did on male children.\n",
    "\n",
    "Overall, it is clear that the age of the passenger has significant correlation with the survival rate, especially when looking at gender and age together. We will want to keep that in mind when training our data. "
   ]
  },
  {
   "cell_type": "code",
   "execution_count": 26,
   "metadata": {},
   "outputs": [
    {
     "name": "stdout",
     "output_type": "stream",
     "text": [
      "Your submission was successfully saved!\n"
     ]
    }
   ],
   "source": [
    "y = train_data[\"Survived\"]\n",
    "\n",
    "features = [\"Pclass\", \"Sex\", \"SibSp\", \"Parch\"]\n",
    "X = pd.get_dummies(train_data[features])\n",
    "X_test = pd.get_dummies(test_data[features])\n",
    "\n",
    "model = RandomForestClassifier(n_estimators=100, max_depth=5, random_state=1)\n",
    "model.fit(X, y)\n",
    "predictions = model.predict(X_test)\n",
    "\n",
    "output = pd.DataFrame({'PassengerId': test_data.PassengerId, 'Survived': predictions})\n",
    "output.to_csv('submission.csv', index=False)\n",
    "print(\"Your submission was successfully saved!\")"
   ]
  }
 ],
 "metadata": {
  "kernelspec": {
   "display_name": "Python 3",
   "language": "python",
   "name": "python3"
  },
  "language_info": {
   "codemirror_mode": {
    "name": "ipython",
    "version": 3
   },
   "file_extension": ".py",
   "mimetype": "text/x-python",
   "name": "python",
   "nbconvert_exporter": "python",
   "pygments_lexer": "ipython3",
   "version": "3.9.12"
  }
 },
 "nbformat": 4,
 "nbformat_minor": 2
}
